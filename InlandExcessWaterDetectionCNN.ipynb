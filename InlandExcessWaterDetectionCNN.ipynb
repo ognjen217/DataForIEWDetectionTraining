{
  "cells": [
    {
      "cell_type": "markdown",
      "metadata": {
        "id": "view-in-github",
        "colab_type": "text"
      },
      "source": [
        "<a href=\"https://colab.research.google.com/github/ognjen217/DataForIEWDetectionTraining/blob/main/InlandExcessWaterDetectionCNN.ipynb\" target=\"_parent\"><img src=\"https://colab.research.google.com/assets/colab-badge.svg\" alt=\"Open In Colab\"/></a>"
      ]
    },
    {
      "cell_type": "code",
      "execution_count": 4,
      "metadata": {
        "id": "nCusXZwCA1-t"
      },
      "outputs": [],
      "source": [
        "# Loading required libraries and functions\n",
        "import os\n",
        "from PIL import Image\n",
        "import pyproj\n",
        "import os\n",
        "import json\n",
        "import shutil\n",
        "import random\n",
        "import itertools\n",
        "%matplotlib inline\n",
        "import numpy as np\n",
        "import tensorflow as tf\n",
        "import matplotlib as mpl\n",
        "from keras import backend\n",
        "from tensorflow import keras\n",
        "import matplotlib.pyplot as plt\n",
        "from sklearn.metrics import f1_score\n",
        "from sklearn.metrics import accuracy_score\n",
        "from tensorflow.keras.models import Model\n",
        "from tensorflow.keras.optimizers import Adam\n",
        "from sklearn.metrics import confusion_matrix\n",
        "from keras.applications import imagenet_utils\n",
        "from tensorflow.keras.preprocessing import image\n",
        "from tensorflow.keras.layers import Dense, Activation\n",
        "from sklearn.metrics import precision_score, recall_score\n",
        "from tensorflow.keras.metrics import categorical_crossentropy\n",
        "from tensorflow.keras.preprocessing.image import ImageDataGenerator\n",
        "from tensorflow.keras.applications.mobilenet import decode_predictions, preprocess_input"
      ]
    },
    {
      "cell_type": "code",
      "execution_count": 8,
      "metadata": {
        "colab": {
          "base_uri": "https://localhost:8080/"
        },
        "id": "BdBqXI5ES0cu",
        "outputId": "0af34524-5b29-42b4-ea98-e64fb11b68b2"
      },
      "outputs": [
        {
          "output_type": "stream",
          "name": "stdout",
          "text": [
            "Mounted at /content/drive\n"
          ]
        }
      ],
      "source": [
        "from google.colab import drive\n",
        "drive.mount('/content/drive')"
      ]
    },
    {
      "cell_type": "code",
      "execution_count": 6,
      "metadata": {
        "id": "NN1ZfbjcKNe9"
      },
      "outputs": [],
      "source": [
        "from osgeo import gdal\n",
        "import numpy as np\n",
        "from PIL import Image\n",
        "\n",
        "def normalize(array):\n",
        "    min_val = array.min()\n",
        "    max_val = array.max()\n",
        "    return (array - min_val) / (max_val - min_val)\n",
        "\n",
        "def save_png_with_packed_data_layers(tiff_file, output_png):\n",
        "    # Open the georeferenced TIFF file\n",
        "    dataset = gdal.Open(tiff_file)\n",
        "\n",
        "    # Read the pixel values and extract the six bands\n",
        "    bands = [dataset.GetRasterBand(i+1).ReadAsArray().astype(np.float32) for i in range(6)]\n",
        "\n",
        "    # Normalize the values of each band\n",
        "    normalized_bands = [normalize(band) for band in bands]\n",
        "\n",
        "    # Stack all bands into a single array\n",
        "    packed_data_layers = np.stack(normalized_bands, axis=-1)\n",
        "\n",
        "    # Create a new RGBA image\n",
        "    width = dataset.RasterXSize\n",
        "    height = dataset.RasterYSize\n",
        "    rgba_image = np.zeros((height, width, 4), dtype=np.uint8)\n",
        "\n",
        "    # Assign RGB channels with normalized values\n",
        "    for i in range(3):\n",
        "        rgba_image[:,:,i] = (normalized_bands[i] * 255).astype(np.uint8)\n",
        "\n",
        "    # Pack the remaining three bands into the alpha channel\n",
        "    rgba_image[:,:,3] = (packed_data_layers[:,:,3:].mean(axis=-1) * 255).astype(np.uint8)\n",
        "\n",
        "    # Get the DPI information from the input TIFF file\n",
        "    dpi_x = dataset.GetGeoTransform()[1]\n",
        "    dpi_y = abs(dataset.GetGeoTransform()[5])  # assuming negative value indicates flipped Y axis\n",
        "\n",
        "    # Save the PNG image with DPI information\n",
        "    png_image = Image.fromarray(rgba_image, 'RGBA')\n",
        "    png_image.save(output_png, dpi=(dpi_x, dpi_y))\n",
        "\n",
        "    print(f\"PNG image saved successfully: {output_png}\")\n",
        "\n",
        "\n",
        "def process_tiff_files(input_folder, output_folder):\n",
        "    # Create the output folder if it doesn't exist\n",
        "    if not os.path.exists(output_folder):\n",
        "        os.makedirs(output_folder)\n",
        "\n",
        "    # Iterate over TIFF files in the input folder\n",
        "    for filename in os.listdir(input_folder):\n",
        "        if filename.endswith(\".tiff\") or filename.endswith(\".tif\"):\n",
        "            tiff_file = os.path.join(input_folder, filename)\n",
        "            output_png = os.path.join(output_folder, os.path.splitext(filename)[0] + \".png\")\n",
        "            save_png_with_packed_data_layers(tiff_file, output_png)\n",
        "\n"
      ]
    },
    {
      "cell_type": "code",
      "execution_count": null,
      "metadata": {
        "id": "SoSYzv5kgVKp"
      },
      "outputs": [],
      "source": [
        "\"\"\"# Usage IEW\n",
        "input_folder = \"/content/drive/MyDrive/dataForTraining/awei_ndmi_mndwi_msavi2_ndre_wri_preprocessed/iew/tiffs\"\n",
        "output_folder = \"/content/drive/MyDrive/dataForTraining/awei_ndmi_mndwi_msavi2_ndre_wri_preprocessed/iew/pngs\"\n",
        "process_tiff_files(input_folder, output_folder)\n",
        "\"\"\"\n",
        "# Usage for NOIEW\n",
        "input_folder = \"/content/drive/MyDrive/dataForTraining/awei_ndmi_mndwi_msavi2_ndre_wri_preprocessed/no_iew\"\n",
        "output_folder = \"/content/drive/MyDrive/dataForTraining/awei_ndmi_mndwi_msavi2_ndre_wri_preprocessed/no_iew/pngs\"\n",
        "process_tiff_files(input_folder, output_folder)\n"
      ]
    },
    {
      "cell_type": "code",
      "execution_count": null,
      "metadata": {
        "id": "o-sr-sTAZitS"
      },
      "outputs": [],
      "source": [
        "import os\n",
        "\n",
        "def empty_folder(folder):\n",
        "    # Iterate over the files in the folder and delete them\n",
        "    for filename in os.listdir(folder):\n",
        "        file_path = os.path.join(folder, filename)\n",
        "        try:\n",
        "            if os.path.isfile(file_path):\n",
        "                os.unlink(file_path)\n",
        "        except Exception as e:\n",
        "            print(f\"Failed to delete {file_path}: {e}\")\n",
        "\n",
        "# Usage\n",
        "folder_to_empty = \"/content/drive/MyDrive/dataForTraining/awei_ndmi_mndwi_msavi2_ndre_wri/iew/pngs\"\n",
        "empty_folder(folder_to_empty)\n"
      ]
    },
    {
      "cell_type": "code",
      "execution_count": 8,
      "metadata": {
        "id": "iV0ts5OBJWOq"
      },
      "outputs": [],
      "source": [
        "import os\n",
        "import random\n",
        "import shutil\n",
        "\n",
        "def split_dataset(input_folder, output_train_folder, output_valid_folder, output_test_folder, split_ratios=(0.7, 0.2, 0.1), seed=None):\n",
        "    # Set the seed for reproducibility\n",
        "    if seed is not None:\n",
        "        random.seed(seed)\n",
        "\n",
        "    # Create output folders if they don't exist\n",
        "    os.makedirs(output_train_folder, exist_ok=True)\n",
        "    os.makedirs(output_valid_folder, exist_ok=True)\n",
        "    os.makedirs(output_test_folder, exist_ok=True)\n",
        "\n",
        "    # Get a list of all files in the input folder\n",
        "    all_files = [file for file in os.listdir(input_folder) if os.path.isfile(os.path.join(input_folder, file))]\n",
        "\n",
        "    # Shuffle the list of files\n",
        "    random.shuffle(all_files)\n",
        "\n",
        "    # Calculate split indices\n",
        "    train_split = int(len(all_files) * split_ratios[0])\n",
        "    valid_split = train_split + int(len(all_files) * split_ratios[1])\n",
        "\n",
        "    # Split the files into training, validation, and test sets\n",
        "    train_files = all_files[:train_split]\n",
        "    valid_files = all_files[train_split:valid_split]\n",
        "    test_files = all_files[valid_split:]\n",
        "\n",
        "    # Move files to the respective output folders\n",
        "    for file in train_files:\n",
        "        shutil.move(os.path.join(input_folder, file), os.path.join(output_train_folder, file))\n",
        "\n",
        "    for file in valid_files:\n",
        "        shutil.move(os.path.join(input_folder, file), os.path.join(output_valid_folder, file))\n",
        "\n",
        "    for file in test_files:\n",
        "        shutil.move(os.path.join(input_folder, file), os.path.join(output_test_folder, file))\n",
        "\n",
        "# Example usage:\n",
        "input_folder = \"/content/drive/MyDrive/dataForTraining/awei_ndmi_mndwi_msavi2_ndre_wri_preprocessed/iew/pngs\"\n",
        "output_train_folder = \"/content/drive/MyDrive/dataForTraining/awei_ndmi_mndwi_msavi2_ndre_wri/TrainingSet/IEW\"\n",
        "output_valid_folder = \"/content/drive/MyDrive/dataForTraining/awei_ndmi_mndwi_msavi2_ndre_wri/ValidationSet/IEW\"\n",
        "output_test_folder = \"/content/drive/MyDrive/dataForTraining/awei_ndmi_mndwi_msavi2_ndre_wri/TestSet/IEW\"\n",
        "split_ratios = (0.7, 0.2, 0.1)  # 70% training, 20% validation, 10% test\n",
        "split_dataset(input_folder, output_train_folder, output_valid_folder, output_test_folder, split_ratios, seed=42)\n",
        "\n",
        "input_folder = \"/content/drive/MyDrive/dataForTraining/awei_ndmi_mndwi_msavi2_ndre_wri_preprocessed/no_iew/pngs\"\n",
        "output_train_folder = \"/content/drive/MyDrive/dataForTraining/awei_ndmi_mndwi_msavi2_ndre_wri/TrainingSet/NIEW\"\n",
        "output_valid_folder = \"/content/drive/MyDrive/dataForTraining/awei_ndmi_mndwi_msavi2_ndre_wri/ValidationSet/NIEW\"\n",
        "output_test_folder = \"/content/drive/MyDrive/dataForTraining/awei_ndmi_mndwi_msavi2_ndre_wri/TestSet/NIEW\"\n",
        "split_ratios = (0.7, 0.2, 0.1)  # 70% training, 20% validation, 10% test\n",
        "split_dataset(input_folder, output_train_folder, output_valid_folder, output_test_folder, split_ratios, seed=42)\n",
        "\n"
      ]
    },
    {
      "cell_type": "code",
      "execution_count": 9,
      "metadata": {
        "colab": {
          "base_uri": "https://localhost:8080/"
        },
        "id": "JNizXWTgA1-u",
        "outputId": "455d225e-7e74-4185-e075-84160d6b1859"
      },
      "outputs": [
        {
          "output_type": "stream",
          "name": "stdout",
          "text": [
            "Found 1478 images belonging to 2 classes.\n",
            "Found 442 images belonging to 2 classes.\n",
            "Found 227 images belonging to 2 classes.\n"
          ]
        }
      ],
      "source": [
        "# Loading data and preprocessing images according to mobilenet requirements\n",
        "# Creating batches of data\n",
        "\n",
        "############## POTREBNO JE SREDITI ULAZE I UPLADOVATI IH NA CLOUD/GIT\n",
        "\n",
        "labels = ['IEW', 'NIEW']\n",
        "train_path = \"/content/drive/MyDrive/dataForTraining/awei_ndmi_mndwi_msavi2_ndre_wri/TrainingSet\"\n",
        "valid_path = \"/content/drive/MyDrive/dataForTraining/awei_ndmi_mndwi_msavi2_ndre_wri/ValidationSet\"\n",
        "test_path =  \"/content/drive/MyDrive/dataForTraining/awei_ndmi_mndwi_msavi2_ndre_wri/TestSet\"\n",
        "\n",
        "train_batches = ImageDataGenerator(preprocessing_function=tf.keras.applications.mobilenet.preprocess_input).flow_from_directory(\n",
        "    directory=train_path, target_size=(224,224), batch_size=10)\n",
        "valid_batches = ImageDataGenerator(preprocessing_function=tf.keras.applications.mobilenet.preprocess_input).flow_from_directory(\n",
        "    directory=valid_path, target_size=(224,224), batch_size=10)\n",
        "test_batches = ImageDataGenerator(preprocessing_function=tf.keras.applications.mobilenet.preprocess_input).flow_from_directory(\n",
        "    directory=test_path, target_size=(224,224), batch_size=10)"
      ]
    },
    {
      "cell_type": "code",
      "execution_count": 10,
      "metadata": {
        "colab": {
          "base_uri": "https://localhost:8080/"
        },
        "id": "795FZHLuA1-v",
        "outputId": "552f50d0-0599-4da5-8936-d048fef587d4"
      },
      "outputs": [
        {
          "output_type": "stream",
          "name": "stderr",
          "text": [
            "WARNING:tensorflow:`input_shape` is undefined or non-square, or `rows` is not in [128, 160, 192, 224]. Weights for input shape (224, 224) will be loaded as the default.\n"
          ]
        },
        {
          "output_type": "stream",
          "name": "stdout",
          "text": [
            "Downloading data from https://storage.googleapis.com/tensorflow/keras-applications/mobilenet/mobilenet_1_0_224_tf_no_top.h5\n",
            "17225924/17225924 [==============================] - 0s 0us/step\n"
          ]
        }
      ],
      "source": [
        "#Loading pre-trained lightweight mobilenet image classifier\n",
        "mobile = tf.keras.applications.mobilenet.MobileNet(weights='imagenet', include_top=False)\n",
        "#mobile.summary()"
      ]
    },
    {
      "cell_type": "code",
      "execution_count": 11,
      "metadata": {
        "colab": {
          "base_uri": "https://localhost:8080/"
        },
        "id": "Cwe6zu3dA1-w",
        "outputId": "ca10911d-a3aa-464e-f83b-1407ab1edff9"
      },
      "outputs": [
        {
          "output_type": "execute_result",
          "data": {
            "text/plain": [
              "<KerasTensor: shape=(None, None, None, 512) dtype=float32 (created by layer 'conv_dw_12')>"
            ]
          },
          "metadata": {},
          "execution_count": 11
        }
      ],
      "source": [
        "# Store all layers of the original mobilenet except the last 5 layers in variable x\n",
        "# There is no predefined logic behind this, it just gives the optimal results for this task\n",
        "# Also, we will be only training the last 12 layers of the mobilenet during finetuning as we want\n",
        "# it to keep all of the previously learned weights\n",
        "x = mobile.layers[-12].output\n",
        "x"
      ]
    },
    {
      "cell_type": "code",
      "execution_count": 12,
      "metadata": {
        "id": "HilvsC66A1-w"
      },
      "outputs": [],
      "source": [
        "# Create global pooling, dropout and a binary output layer, as we want our model to be a binary classifier,\n",
        "# i.e. to classify flooding and no flooding\n",
        "x = keras.layers.GlobalAveragePooling2D()(x)\n",
        "x = keras.layers.Dropout(0.2)(x)  # Regularize with dropout\n",
        "output = Dense(units=2, activation='sigmoid')(x)"
      ]
    },
    {
      "cell_type": "code",
      "execution_count": 13,
      "metadata": {
        "id": "VJ9AklMIA1-w"
      },
      "outputs": [],
      "source": [
        "# Construct the new fine-tuned mode\n",
        "model = Model(inputs=mobile.input, outputs=output)"
      ]
    },
    {
      "cell_type": "code",
      "execution_count": 14,
      "metadata": {
        "id": "vMAD2uepA1-w"
      },
      "outputs": [],
      "source": [
        "# Freez weights of all the layers except for the last five layers in our new model,\n",
        "# meaning that only the last 12 layers of the model will be trained.\n",
        "for layer in model.layers[:-23]:\n",
        "    layer.trainable = False"
      ]
    },
    {
      "cell_type": "code",
      "execution_count": 15,
      "metadata": {
        "id": "KrYNvSKIA1-w"
      },
      "outputs": [],
      "source": [
        "# This code adds new structure for input layer\n",
        "# And copies structure of pretrained network so it is usable in future, but for different input (depth is 6)\n",
        "\n",
        "x = tf.keras.Input(shape=(None, None, 6))\n",
        "l = model.layers[1](x)  # layer 0 is the input layer, which we're replacing\n",
        "for i in range(2, len(model.layers)):\n",
        "    l = model.layers[i](l)\n",
        "\n",
        "stacked_model = tf.keras.Model(x,l)\n",
        "\n"
      ]
    },
    {
      "cell_type": "code",
      "execution_count": 16,
      "metadata": {
        "id": "6fGK3VytA1-x"
      },
      "outputs": [],
      "source": [
        "# Compile the model\n",
        "stacked_model.compile(optimizer=Adam(learning_rate=0.0001), loss='binary_crossentropy', metrics=['accuracy'])"
      ]
    },
    {
      "cell_type": "code",
      "execution_count": null,
      "metadata": {
        "id": "kAQpavtPbqh5"
      },
      "outputs": [],
      "source": [
        "stacked_model.summary()"
      ]
    },
    {
      "cell_type": "code",
      "execution_count": 28,
      "metadata": {
        "colab": {
          "base_uri": "https://localhost:8080/"
        },
        "id": "Lg38TykfA1-x",
        "outputId": "d9dd11cf-f06f-42f6-8e1b-25456b9f5370"
      },
      "outputs": [
        {
          "output_type": "stream",
          "name": "stdout",
          "text": [
            "Epoch 1/5\n",
            "148/148 [==============================] - 102s 692ms/step - loss: 0.0741 - accuracy: 0.9844 - val_loss: 0.3758 - val_accuracy: 0.9548\n",
            "Epoch 2/5\n",
            "148/148 [==============================] - 95s 639ms/step - loss: 0.0641 - accuracy: 0.9844 - val_loss: 0.1058 - val_accuracy: 0.9796\n",
            "Epoch 3/5\n",
            "148/148 [==============================] - 92s 617ms/step - loss: 0.4913 - accuracy: 0.9594 - val_loss: 0.3073 - val_accuracy: 0.9344\n",
            "Epoch 4/5\n",
            "148/148 [==============================] - 94s 638ms/step - loss: 0.1620 - accuracy: 0.9682 - val_loss: 0.1405 - val_accuracy: 0.9661\n",
            "Epoch 5/5\n",
            "148/148 [==============================] - 99s 668ms/step - loss: 0.0502 - accuracy: 0.9885 - val_loss: 0.1236 - val_accuracy: 0.9683\n"
          ]
        },
        {
          "output_type": "execute_result",
          "data": {
            "text/plain": [
              "<keras.src.callbacks.History at 0x787b7e0b6740>"
            ]
          },
          "metadata": {},
          "execution_count": 28
        }
      ],
      "source": [
        "stacked_model.fit(\n",
        "    x=train_batches,\n",
        "    steps_per_epoch = len(train_batches),\n",
        "    validation_data = valid_batches,\n",
        "    validation_steps = len(valid_batches),\n",
        "    epochs = 5,\n",
        "    verbose = 1,\n",
        "    class_weight = {0 : 100.,\n",
        "                    1: 1.}\n",
        ")"
      ]
    },
    {
      "cell_type": "code",
      "execution_count": 39,
      "metadata": {
        "id": "7-EnW5kDA1-x"
      },
      "outputs": [],
      "source": [
        "# Saving and loading our trained for future use\n",
        "\n",
        "stacked_model.save(\"awei_ndmi_mndwi_msavi2_ndre_wri_1.keras\")\n",
        "stacked_model.load_weights('awei_ndmi_mndwi_msavi2_ndre_wri_1.keras')"
      ]
    },
    {
      "cell_type": "code",
      "source": [
        "model = keras.saving.load_model(\"/content/drive/MyDrive/awei_ndmi_mndwi_msavi2_ndre_wri_1.keras\", custom_objects=None, compile=True, safe_mode=True)"
      ],
      "metadata": {
        "id": "3VACPcXZNwHJ"
      },
      "execution_count": null,
      "outputs": []
    },
    {
      "cell_type": "code",
      "execution_count": 29,
      "metadata": {
        "colab": {
          "base_uri": "https://localhost:8080/",
          "height": 580
        },
        "id": "MgU9qVpnA1-x",
        "outputId": "d30ecb78-4017-4369-dff7-d5fe488ab085"
      },
      "outputs": [
        {
          "output_type": "stream",
          "name": "stdout",
          "text": [
            "23/23 [==============================] - 7s 299ms/step\n",
            "Precision:  0.4782608695652174\n",
            "F1 Score:  0.4680851063829787\n",
            "Accuracy:  0.44933920704845814\n"
          ]
        },
        {
          "output_type": "display_data",
          "data": {
            "text/plain": [
              "<Figure size 640x480 with 2 Axes>"
            ],
            "image/png": "[encoded data removed]"
          },
          "metadata": {}
        }
      ],
      "source": [
        "# Make predictions and plot confusion matrix to look how well our model performed in classifying\n",
        "from sklearn.metrics import confusion_matrix, precision_score, f1_score, accuracy_score\n",
        "test_labels = test_batches.classes\n",
        "predictions = stacked_model.predict(x=test_batches, steps=len(test_batches), verbose=1)\n",
        "\n",
        "cm = confusion_matrix(y_true=test_labels, y_pred=predictions.argmax(axis=1))\n",
        "precision = precision_score(y_true=test_labels, y_pred=predictions.argmax(axis=1))\n",
        "f1_score = f1_score(y_true=test_labels, y_pred=predictions.argmax(axis=1))  # Rename variable\n",
        "accuracy = accuracy_score(y_true=test_labels, y_pred=predictions.argmax(axis=1))\n",
        "\n",
        "\n",
        "def plot_confusion_matrix(cm, classes,\n",
        "                          normalize=False,\n",
        "                          title='Confusion matrix',\n",
        "                          cmap=plt.cm.Blues):\n",
        "    plt.imshow(cm, interpolation='nearest', cmap=cmap)\n",
        "    plt.title(title)\n",
        "    plt.colorbar()\n",
        "    tick_marks = np.arange(len(classes))\n",
        "    plt.xticks(tick_marks, classes, rotation=45)\n",
        "    plt.yticks(tick_marks, classes)\n",
        "    thresh = cm.max() / 2.\n",
        "    for i, j in itertools.product(range(cm.shape[0]), range(cm.shape[1])):\n",
        "        plt.text(j, i, cm[i, j],\n",
        "            horizontalalignment=\"center\",\n",
        "            color=\"white\" if cm[i, j] > thresh else \"black\")\n",
        "\n",
        "    plt.tight_layout()\n",
        "    plt.ylabel('True label')\n",
        "    plt.xlabel('Predicted label')\n",
        "\n",
        "# Confusion Matrix\n",
        "test_batches.class_indices\n",
        "cm_plot_labels = ['iew','niew']\n",
        "plot_confusion_matrix(cm=cm, classes=cm_plot_labels, title='Confusion Matrix')\n",
        "\n",
        "# Pring precision, F1 score and accuracy of our model\n",
        "print('Precision: ', precision)\n",
        "print('F1 Score: ', f1_score)\n",
        "print('Accuracy: ', accuracy)"
      ]
    },
    {
      "cell_type": "code",
      "execution_count": 20,
      "metadata": {
        "colab": {
          "base_uri": "https://localhost:8080/",
          "height": 472
        },
        "id": "5tMJJLkLqlR1",
        "outputId": "e70f4de3-596e-467e-a005-54774e450db7"
      },
      "outputs": [
        {
          "output_type": "display_data",
          "data": {
            "text/plain": [
              "<Figure size 640x480 with 1 Axes>"
            ],
            "image/png": "[encoded data removed]"
          },
          "metadata": {}
        }
      ],
      "source": [
        "# Compute ROC curve\n",
        "from sklearn.metrics import roc_curve, auc\n",
        "fpr, tpr, thresholds = roc_curve(test_labels, predictions[:, 1])  # Assuming the positive class is index 1\n",
        "roc_auc = auc(fpr, tpr)\n",
        "\n",
        "# Plot ROC curve\n",
        "plt.figure()\n",
        "plt.plot(fpr, tpr, color='darkorange', lw=2, label='ROC curve (area = %0.2f)' % roc_auc)\n",
        "plt.plot([0, 1], [0, 1], color='navy', lw=2, linestyle='--')\n",
        "plt.xlim([0.0, 1.0])\n",
        "plt.ylim([0.0, 1.05])\n",
        "plt.xlabel('False Positive Rate')\n",
        "plt.ylabel('True Positive Rate')\n",
        "plt.title('Receiver Operating Characteristic (ROC) Curve')\n",
        "plt.legend(loc=\"lower right\")\n",
        "plt.show()"
      ]
    }
  ],
  "metadata": {
    "colab": {
      "provenance": [],
      "include_colab_link": true
    },
    "kernelspec": {
      "display_name": "Python 3 (ipykernel)",
      "language": "python",
      "name": "python3"
    },
    "language_info": {
      "codemirror_mode": {
        "name": "ipython",
        "version": 3
      },
      "file_extension": ".py",
      "mimetype": "text/x-python",
      "name": "python",
      "nbconvert_exporter": "python",
      "pygments_lexer": "ipython3",
      "version": "3.9.7"
    }
  },
  "nbformat": 4,
  "nbformat_minor": 0
}